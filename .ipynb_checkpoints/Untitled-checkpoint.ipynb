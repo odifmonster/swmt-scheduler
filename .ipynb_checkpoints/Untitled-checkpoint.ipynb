{
 "cells": [
  {
   "cell_type": "code",
   "execution_count": 1,
   "id": "095e7351-a7ad-48a7-8dc0-6c7c6ef42c10",
   "metadata": {},
   "outputs": [],
   "source": [
    "import pandas as pd\n",
    "import os"
   ]
  },
  {
   "cell_type": "code",
   "execution_count": 2,
   "id": "ff47ace4-d22f-48bd-9c93-640dab7211a2",
   "metadata": {},
   "outputs": [],
   "source": [
    "DIRPATH = '/Users/lamanwyner/Desktop/Shawmut Projects/Scheduling'\n",
    "INV_SRC = ('master.xlsx', {'sheet_name': 'inventory',\n",
    "                           'usecols': ['Roll', 'Item', 'Quality', 'Pounds', 'ASSIGNED_ORDER'],\n",
    "                           'dtype': {'Roll': 'string', 'Item': 'string', 'Quality': 'string',\n",
    "                                     'ASSIGNED_ORDER': 'string'}})\n",
    "JET_SRC = ('master.xlsx', {'sheet_name': 'jet_info'})\n",
    "JET_JOB_SRC = ('Demand Planning 20250806.xlsx', {'sheet_name': 'Demand Planning20230907',\n",
    "                                                 'usecols': 'AE:AL',"
   ]
  },
  {
   "cell_type": "code",
   "execution_count": 3,
   "id": "3a0c41d4-de72-4715-8e9f-ebe57910ee97",
   "metadata": {},
   "outputs": [],
   "source": [
    "from app import style\n",
    "style.init()\n",
    "style.translation.init()"
   ]
  },
  {
   "cell_type": "code",
   "execution_count": 4,
   "id": "ef7a682f-8545-4fa6-bad2-f734595b9dac",
   "metadata": {},
   "outputs": [],
   "source": [
    "from app.inventory.roll import Roll\n",
    "from app.inventory import Inventory"
   ]
  },
  {
   "cell_type": "code",
   "execution_count": 5,
   "id": "03182916-5fbd-411d-81e7-884a4758b5a0",
   "metadata": {},
   "outputs": [],
   "source": [
    "inv_path = os.path.join(DIRPATH, INV_SRC[0])\n",
    "inv_df = pd.read_excel(inv_path, **INV_SRC[1])"
   ]
  },
  {
   "cell_type": "code",
   "execution_count": 6,
   "id": "95ac6163-6d3a-41ab-a00f-5d0ba871bec1",
   "metadata": {},
   "outputs": [],
   "source": [
    "inv_df = inv_df[(inv_df['Pounds'] > 0) & (inv_df['Quality'] == 'A') & inv_df['ASSIGNED_ORDER'].isna()]"
   ]
  },
  {
   "cell_type": "code",
   "execution_count": 9,
   "id": "ca80e3ed-171a-43c1-886f-5278950619e2",
   "metadata": {},
   "outputs": [],
   "source": [
    "inv = Inventory()\n",
    "\n",
    "for i in inv_df.index:\n",
    "    inv_grg = inv_df.loc[i, 'Item']\n",
    "    grg_id = style.translation.translate_greige_style(inv_grg)\n",
    "    if not grg_id: continue\n",
    "\n",
    "    roll_id = inv_df.loc[i, 'Roll']\n",
    "    grg = style.get_greige_style(grg_id)\n",
    "    if not grg: continue\n",
    "\n",
    "    wt = inv_df.loc[i, 'Pounds']\n",
    "    inv.add(Roll(roll_id, grg, wt))"
   ]
  },
  {
   "cell_type": "code",
   "execution_count": 12,
   "id": "23d2f849-43d3-4e84-8181-68ec43ba1a35",
   "metadata": {},
   "outputs": [],
   "source": [
    "from app.schedule.jet import Jet"
   ]
  },
  {
   "cell_type": "code",
   "execution_count": null,
   "id": "5e5a8a79-a6ed-4e7d-bac1-8571ca934194",
   "metadata": {},
   "outputs": [],
   "source": [
    "jets = []\n",
    "\n"
   ]
  }
 ],
 "metadata": {
  "kernelspec": {
   "display_name": "Python 3 (ipykernel)",
   "language": "python",
   "name": "python3"
  },
  "language_info": {
   "codemirror_mode": {
    "name": "ipython",
    "version": 3
   },
   "file_extension": ".py",
   "mimetype": "text/x-python",
   "name": "python",
   "nbconvert_exporter": "python",
   "pygments_lexer": "ipython3",
   "version": "3.13.5"
  }
 },
 "nbformat": 4,
 "nbformat_minor": 5
}
