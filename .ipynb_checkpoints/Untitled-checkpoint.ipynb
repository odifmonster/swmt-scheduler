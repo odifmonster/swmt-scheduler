{
 "cells": [
  {
   "cell_type": "code",
   "execution_count": 1,
   "id": "77590fc3-010a-4baa-8a06-4de66cc0bcc8",
   "metadata": {},
   "outputs": [],
   "source": [
    "import pandas as pd"
   ]
  },
  {
   "cell_type": "code",
   "execution_count": 3,
   "id": "b45fb107-da10-415f-a597-397f89a155f0",
   "metadata": {},
   "outputs": [],
   "source": [
    "import os"
   ]
  },
  {
   "cell_type": "code",
   "execution_count": 2,
   "id": "d5b05ac6-76b3-4a99-8f7c-238f163c58e0",
   "metadata": {},
   "outputs": [],
   "source": [
    "EXCEL_DIR = '/Users/lamanwyner/Desktop/Shawmut Projects/Scheduling'\n",
    "MASTER_FILE = 'master.xlsx'\n",
    "TRANS_SHEET = 'translation_ana'"
   ]
  },
  {
   "cell_type": "code",
   "execution_count": 4,
   "id": "5378d1a7-ab4d-41ba-8954-832e9097b456",
   "metadata": {},
   "outputs": [],
   "source": [
    "raw_df = pd.read_excel(os.path.join(EXCEL_DIR, MASTER_FILE), sheet_name=TRANS_SHEET,\n",
    "                       usecols=['inv_name', 'plan_name'])"
   ]
  },
  {
   "cell_type": "code",
   "execution_count": 5,
   "id": "307cb066-102e-4959-b616-6d9aa11b8158",
   "metadata": {},
   "outputs": [
    {
     "data": {
      "text/html": [
       "<div>\n",
       "<style scoped>\n",
       "    .dataframe tbody tr th:only-of-type {\n",
       "        vertical-align: middle;\n",
       "    }\n",
       "\n",
       "    .dataframe tbody tr th {\n",
       "        vertical-align: top;\n",
       "    }\n",
       "\n",
       "    .dataframe thead th {\n",
       "        text-align: right;\n",
       "    }\n",
       "</style>\n",
       "<table border=\"1\" class=\"dataframe\">\n",
       "  <thead>\n",
       "    <tr style=\"text-align: right;\">\n",
       "      <th></th>\n",
       "      <th>inv_name</th>\n",
       "      <th>plan_name</th>\n",
       "      <th>Unnamed: 2</th>\n",
       "      <th>Unnamed: 3</th>\n",
       "    </tr>\n",
       "  </thead>\n",
       "  <tbody>\n",
       "    <tr>\n",
       "      <th>0</th>\n",
       "      <td>GF A1148DANONAUTO</td>\n",
       "      <td>not used</td>\n",
       "      <td>NaN</td>\n",
       "      <td>NaN</td>\n",
       "    </tr>\n",
       "    <tr>\n",
       "      <th>1</th>\n",
       "      <td>GF AUSR5270A</td>\n",
       "      <td>not used</td>\n",
       "      <td>NaN</td>\n",
       "      <td>NaN</td>\n",
       "    </tr>\n",
       "    <tr>\n",
       "      <th>2</th>\n",
       "      <td>GF AUSR5271AHEN</td>\n",
       "      <td>not used</td>\n",
       "      <td>NaN</td>\n",
       "      <td>NaN</td>\n",
       "    </tr>\n",
       "    <tr>\n",
       "      <th>3</th>\n",
       "      <td>GF AUSR5273</td>\n",
       "      <td>not used</td>\n",
       "      <td>NaN</td>\n",
       "      <td>NaN</td>\n",
       "    </tr>\n",
       "    <tr>\n",
       "      <th>4</th>\n",
       "      <td>GF AUSR5273SPL</td>\n",
       "      <td>not used</td>\n",
       "      <td>NaN</td>\n",
       "      <td>NaN</td>\n",
       "    </tr>\n",
       "    <tr>\n",
       "      <th>...</th>\n",
       "      <td>...</td>\n",
       "      <td>...</td>\n",
       "      <td>...</td>\n",
       "      <td>...</td>\n",
       "    </tr>\n",
       "    <tr>\n",
       "      <th>747</th>\n",
       "      <td>GF AUSR8120</td>\n",
       "      <td>not used</td>\n",
       "      <td>NaN</td>\n",
       "      <td>NaN</td>\n",
       "    </tr>\n",
       "    <tr>\n",
       "      <th>748</th>\n",
       "      <td>GF CF5491NAT48</td>\n",
       "      <td>not used</td>\n",
       "      <td>NaN</td>\n",
       "      <td>NaN</td>\n",
       "    </tr>\n",
       "    <tr>\n",
       "      <th>749</th>\n",
       "      <td>GF CF5493NAT48</td>\n",
       "      <td>not used</td>\n",
       "      <td>NaN</td>\n",
       "      <td>NaN</td>\n",
       "    </tr>\n",
       "    <tr>\n",
       "      <th>750</th>\n",
       "      <td>GF WAU7389H-HH</td>\n",
       "      <td>AU7389H</td>\n",
       "      <td>NaN</td>\n",
       "      <td>NaN</td>\n",
       "    </tr>\n",
       "    <tr>\n",
       "      <th>751</th>\n",
       "      <td>GF WAUSR8135</td>\n",
       "      <td>not used</td>\n",
       "      <td>NaN</td>\n",
       "      <td>NaN</td>\n",
       "    </tr>\n",
       "  </tbody>\n",
       "</table>\n",
       "<p>752 rows × 4 columns</p>\n",
       "</div>"
      ],
      "text/plain": [
       "              inv_name plan_name  Unnamed: 2 Unnamed: 3\n",
       "0    GF A1148DANONAUTO  not used         NaN        NaN\n",
       "1         GF AUSR5270A  not used         NaN        NaN\n",
       "2      GF AUSR5271AHEN  not used         NaN        NaN\n",
       "3          GF AUSR5273  not used         NaN        NaN\n",
       "4       GF AUSR5273SPL  not used         NaN        NaN\n",
       "..                 ...       ...         ...        ...\n",
       "747        GF AUSR8120  not used         NaN        NaN\n",
       "748     GF CF5491NAT48  not used         NaN        NaN\n",
       "749     GF CF5493NAT48  not used         NaN        NaN\n",
       "750     GF WAU7389H-HH   AU7389H         NaN        NaN\n",
       "751       GF WAUSR8135  not used         NaN        NaN\n",
       "\n",
       "[752 rows x 4 columns]"
      ]
     },
     "execution_count": 5,
     "metadata": {},
     "output_type": "execute_result"
    }
   ],
   "source": []
  },
  {
   "cell_type": "code",
   "execution_count": null,
   "id": "3eb97e14-07fd-4fb6-828c-0beef9c7e4bc",
   "metadata": {},
   "outputs": [],
   "source": []
  }
 ],
 "metadata": {
  "kernelspec": {
   "display_name": "Python 3 (ipykernel)",
   "language": "python",
   "name": "python3"
  },
  "language_info": {
   "codemirror_mode": {
    "name": "ipython",
    "version": 3
   },
   "file_extension": ".py",
   "mimetype": "text/x-python",
   "name": "python",
   "nbconvert_exporter": "python",
   "pygments_lexer": "ipython3",
   "version": "3.13.5"
  }
 },
 "nbformat": 4,
 "nbformat_minor": 5
}
