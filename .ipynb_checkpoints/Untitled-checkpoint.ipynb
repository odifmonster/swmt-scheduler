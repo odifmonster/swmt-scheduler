{
 "cells": [
  {
   "cell_type": "code",
   "execution_count": 1,
   "id": "859f2d74-6d7d-4a8d-8fd4-00b169554e81",
   "metadata": {},
   "outputs": [],
   "source": [
    "import pandas as pd"
   ]
  },
  {
   "cell_type": "code",
   "execution_count": 4,
   "id": "09b2a12b-c10f-46a9-88fe-38e422c5afbf",
   "metadata": {},
   "outputs": [],
   "source": [
    "df = pd.read_excel('/Users/lamanwyner/Desktop/Shawmut Projects/Scheduling/master.xlsx',\n",
    "                   sheet_name='greige_info', dtype={'item': 'string', 'target_lbs': 'float64'})"
   ]
  },
  {
   "cell_type": "code",
   "execution_count": 6,
   "id": "cfb8491e-6582-4411-a6d3-0e876c0b055c",
   "metadata": {},
   "outputs": [
    {
     "name": "stdout",
     "output_type": "stream",
     "text": [
      "<class 'pandas.core.frame.DataFrame'>\n",
      "RangeIndex: 23 entries, 0 to 22\n",
      "Data columns (total 2 columns):\n",
      " #   Column      Non-Null Count  Dtype  \n",
      "---  ------      --------------  -----  \n",
      " 0   item        23 non-null     string \n",
      " 1   target_lbs  23 non-null     float64\n",
      "dtypes: float64(1), string(1)\n",
      "memory usage: 500.0 bytes\n"
     ]
    }
   ],
   "source": []
  },
  {
   "cell_type": "code",
   "execution_count": null,
   "id": "cc617004-b9d2-4c97-bbdf-e103cbd5ac9e",
   "metadata": {},
   "outputs": [],
   "source": []
  }
 ],
 "metadata": {
  "kernelspec": {
   "display_name": "Python 3 (ipykernel)",
   "language": "python",
   "name": "python3"
  },
  "language_info": {
   "codemirror_mode": {
    "name": "ipython",
    "version": 3
   },
   "file_extension": ".py",
   "mimetype": "text/x-python",
   "name": "python",
   "nbconvert_exporter": "python",
   "pygments_lexer": "ipython3",
   "version": "3.13.5"
  }
 },
 "nbformat": 4,
 "nbformat_minor": 5
}
