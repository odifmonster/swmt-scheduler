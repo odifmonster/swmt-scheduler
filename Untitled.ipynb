{
 "cells": [
  {
   "cell_type": "code",
   "execution_count": 1,
   "id": "8b64e22c-9783-4a50-8aba-8fc4b1ae3e70",
   "metadata": {},
   "outputs": [],
   "source": [
    "import pandas as pd"
   ]
  },
  {
   "cell_type": "code",
   "execution_count": 2,
   "id": "b9fa0f6e-a1f0-4d42-8e93-c166df2ee826",
   "metadata": {},
   "outputs": [],
   "source": [
    "FPATH = '/Users/lamanwyner/Desktop/Shawmut Projects/Scheduling/master.xlsx'\n",
    "SHEET = 'Xref'"
   ]
  },
  {
   "cell_type": "code",
   "execution_count": 16,
   "id": "92c25cf2-3a38-464b-9514-84e3d931779a",
   "metadata": {},
   "outputs": [],
   "source": [
    "df = pd.read_excel(FPATH, sheet_name=SHEET,\n",
    "                  dtype={'GREIGE ITEM': 'string',\n",
    "                         'STYLE': 'string',\n",
    "                         'COLOR NAME': 'string',\n",
    "                         'PA FIN ITEM': 'string',\n",
    "                         'JET 1': 'string',\n",
    "                         'JET 2': 'string',\n",
    "                         'JET 3': 'string',\n",
    "                         'JET 4': 'string',\n",
    "                         'JET 7': 'string',\n",
    "                         'JET 8': 'string',\n",
    "                         'JET 9': 'string',\n",
    "                         'JET 10': 'string'},\n",
    "                  usecols=['GREIGE ITEM', 'STYLE', 'COLOR NAME', 'COLOR NUMBER',\n",
    "                           'PA FIN ITEM', 'JET 1', 'JET 2', 'JET 3', 'JET 4',\n",
    "                           'JET 7', 'JET 8', 'JET 9', 'JET 10', 'SHADE RATING'])"
   ]
  },
  {
   "cell_type": "code",
   "execution_count": 17,
   "id": "8994f60b-bc2f-4738-ac90-4b22864c007b",
   "metadata": {},
   "outputs": [
    {
     "name": "stdout",
     "output_type": "stream",
     "text": [
      "<class 'pandas.core.frame.DataFrame'>\n",
      "RangeIndex: 383 entries, 0 to 382\n",
      "Data columns (total 14 columns):\n",
      " #   Column        Non-Null Count  Dtype  \n",
      "---  ------        --------------  -----  \n",
      " 0   GREIGE ITEM   383 non-null    string \n",
      " 1   STYLE         383 non-null    string \n",
      " 2   COLOR NAME    362 non-null    string \n",
      " 3   COLOR NUMBER  362 non-null    float64\n",
      " 4   PA FIN ITEM   382 non-null    string \n",
      " 5   JET 1         343 non-null    string \n",
      " 6   JET 2         343 non-null    string \n",
      " 7   JET 3         343 non-null    string \n",
      " 8   JET 4         343 non-null    string \n",
      " 9   JET 7         52 non-null     string \n",
      " 10  JET 8         102 non-null    string \n",
      " 11  JET 9         343 non-null    string \n",
      " 12  JET 10        343 non-null    string \n",
      " 13  SHADE RATING  317 non-null    float64\n",
      "dtypes: float64(2), string(12)\n",
      "memory usage: 42.0 KB\n"
     ]
    }
   ],
   "source": [
    "df.info()"
   ]
  },
  {
   "cell_type": "code",
   "execution_count": 18,
   "id": "7000bff5-29ed-4bc1-aee5-dcf80035d9d5",
   "metadata": {},
   "outputs": [],
   "source": [
    "df['GREIGE ITEM'] = df['GREIGE ITEM'].str.upper()"
   ]
  },
  {
   "cell_type": "code",
   "execution_count": 20,
   "id": "e5dffd42-1476-45b3-953d-513c5a680231",
   "metadata": {},
   "outputs": [],
   "source": [
    "import numpy as np"
   ]
  },
  {
   "cell_type": "code",
   "execution_count": 25,
   "id": "7e909faf-baaf-49a3-bf03-f129ebea37e7",
   "metadata": {},
   "outputs": [
    {
     "data": {
      "text/plain": [
       "True"
      ]
     },
     "execution_count": 25,
     "metadata": {},
     "output_type": "execute_result"
    }
   ],
   "source": [
    "pd.isnull(df.loc[4, 'JET 7'])"
   ]
  },
  {
   "cell_type": "code",
   "execution_count": null,
   "id": "b887ee9d-7fc1-4333-871c-755a43a9ace6",
   "metadata": {},
   "outputs": [],
   "source": []
  }
 ],
 "metadata": {
  "kernelspec": {
   "display_name": "Python 3 (ipykernel)",
   "language": "python",
   "name": "python3"
  },
  "language_info": {
   "codemirror_mode": {
    "name": "ipython",
    "version": 3
   },
   "file_extension": ".py",
   "mimetype": "text/x-python",
   "name": "python",
   "nbconvert_exporter": "python",
   "pygments_lexer": "ipython3",
   "version": "3.13.5"
  }
 },
 "nbformat": 4,
 "nbformat_minor": 5
}
